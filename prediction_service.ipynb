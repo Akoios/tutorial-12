{
 "cells": [
  {
   "cell_type": "code",
   "execution_count": null,
   "metadata": {},
   "outputs": [],
   "source": [
    "import pandas as pd\n",
    "from sklearn.linear_model import LogisticRegression\n",
    "from sklearn.ensemble import RandomForestClassifier,GradientBoostingClassifier\n",
    "import pickle\n",
    "import cloudpickle as cp\n",
    "from urllib.request import urlopen\n",
    "import json"
   ]
  },
  {
   "cell_type": "code",
   "execution_count": null,
   "metadata": {},
   "outputs": [],
   "source": [
    "logistic = LogisticRegression()\n",
    "rand = RandomForestClassifier(n_jobs=10, random_state=40)\n",
    "gb = GradientBoostingClassifier(random_state=50)"
   ]
  },
  {
   "cell_type": "code",
   "execution_count": null,
   "metadata": {},
   "outputs": [],
   "source": [
    "# Load the stored models (Logistic regression, Gradient Boosting and Random Forest)\n",
    "logistic = cp.load(urlopen('https://storage.googleapis.com/tutorial-datasets/logistic_model.sav'))\n",
    "rand = cp.load(urlopen('https://storage.googleapis.com/tutorial-models/random_forest_model.sav'))\n",
    "gb = cp.load(urlopen('https://storage.googleapis.com/tutorial-models/gradient_boosting_model.sav'))"
   ]
  },
  {
   "cell_type": "code",
   "execution_count": null,
   "metadata": {},
   "outputs": [],
   "source": [
    "# Mock request object for local API testing\n",
    "headers = {\n",
    "'content-type': 'application/json'\n",
    "}\n",
    "body = json.dumps({\n",
    "  \"data\": [[46,2017,32,8,0,0,0,0,0,0,0,0,0,0,0,0,0,0,0,0,0,1,0,0,0,0,0,0,0,0,0,0,0,0,0,0,0,0,0,0,0,0,0,0,0,0,0,0,0,1,0,0,0,0,1]]\n",
    "})\n",
    "REQUEST = json.dumps({ 'headers': headers, 'body': body })"
   ]
  },
  {
   "cell_type": "code",
   "execution_count": null,
   "metadata": {},
   "outputs": [],
   "source": [
    "# POST /logistic_prediction\n",
    "body = json.loads(REQUEST)['body']\n",
    "input_params = json.loads(body)['data']\n",
    "print(logistic.predict(input_params))"
   ]
  },
  {
   "cell_type": "code",
   "execution_count": null,
   "metadata": {},
   "outputs": [],
   "source": [
    "# POST /rf_prediction\n",
    "body = json.loads(REQUEST)['body']\n",
    "input_params = json.loads(body)['data']\n",
    "print(logistic.predict(input_params))"
   ]
  },
  {
   "cell_type": "code",
   "execution_count": null,
   "metadata": {},
   "outputs": [],
   "source": [
    "# POST /gb_prediction\n",
    "body = json.loads(REQUEST)['body']\n",
    "input_params = json.loads(body)['data']\n",
    "print(logistic.predict(input_params))"
   ]
  }
 ],
 "metadata": {
  "kernelspec": {
   "display_name": "Python 3",
   "language": "python",
   "name": "python3"
  },
  "language_info": {
   "codemirror_mode": {
    "name": "ipython",
    "version": 3
   },
   "file_extension": ".py",
   "mimetype": "text/x-python",
   "name": "python",
   "nbconvert_exporter": "python",
   "pygments_lexer": "ipython3",
   "version": "3.7.1"
  }
 },
 "nbformat": 4,
 "nbformat_minor": 2
}
